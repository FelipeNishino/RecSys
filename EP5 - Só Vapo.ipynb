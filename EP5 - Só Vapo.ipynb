{
  "cells": [
    {
      "cell_type": "code",
      "source": [
        "import json\n",
        "import random\n",
        "import pathlib\n",
        "import warnings\n",
        "import numpy as np\n",
        "import pandas as pd\n",
        "from scipy.stats import pearsonr\n",
        "\n",
        "warnings.filterwarnings('ignore')"
      ],
      "execution_count": 1,
      "outputs": [],
      "metadata": {}
    },
    {
      "cell_type": "code",
      "source": [
        "def calcSimilarity():\n",
        "    similarity = {}\n",
        "    for u in userList:\n",
        "        dfu = df[df.userId == u]\n",
        "        similarity[str(u)] = {}\n",
        "        for v in userList:\n",
        "            if u == v:\n",
        "                continue\n",
        "\n",
        "            dfv = df[df.userId == v]\n",
        "            dfuc = dfu[dfu.movieId.isin(dfv.movieId)]\n",
        "            dfv = dfv[dfv.movieId.isin(dfu.movieId)]\n",
        "            \n",
        "            try:\n",
        "                similarity[str(u)][str(v)] = similarity[str(v)][str(u)]\n",
        "            except KeyError:\n",
        "                if len(dfuc) > 1 and len(dfv) > 1:\n",
        "                    similarity[str(u)][str(v)] = pearsonr(dfuc[\"rating\"], dfv[\"rating\"])[0]\n",
        "                else:\n",
        "                    similarity[str(u)][str(v)] = 0\n",
        "        if u % 100 == 0 or u == 1:\n",
        "            print(f\"{u}/{totalUsers} calculados, progresso: {u / len(userList) * 100}%\")\n",
        "    print(f\"{totalUsers}/{totalUsers} calculados, função concluída.\")\n",
        "    saveSimilarityJson(similarity)\n",
        "    return similarity"
      ],
      "execution_count": 2,
      "outputs": [],
      "metadata": {}
    },
    {
      "cell_type": "code",
      "source": [
        "def saveSimilarityJson(similarity):\n",
        "    with open('result.json', 'w') as fp:\n",
        "        json.dump(similarity, fp, indent=4)"
      ],
      "execution_count": 3,
      "outputs": [],
      "metadata": {}
    },
    {
      "cell_type": "code",
      "source": [
        "def loadSimilarityJson():\n",
        "    with open('result.json', 'r') as fp:\n",
        "        return json.load(fp)"
      ],
      "execution_count": 4,
      "outputs": [],
      "metadata": {}
    },
    {
      "cell_type": "code",
      "source": [
        "def resScore(users_and_scores, movie):\n",
        "    n = 0.0\n",
        "    d = 0.0\n",
        "    for user, sim_score in users_and_scores:\n",
        "        dfv = df[df.userId == user]\n",
        "        rating = dfv[dfv.movieId == movie][\"rating\"].to_numpy()\n",
        "        if len(rating) > 0:\n",
        "            n += rating[0] * sim_score\n",
        "            d += abs(sim_score)\n",
        "    return n/d"
      ],
      "execution_count": 5,
      "outputs": [],
      "metadata": {}
    },
    {
      "cell_type": "code",
      "source": [
        "def getMovieList(reference_users, user, dfml):\n",
        "    df.userId = df.userId.astype(str)\n",
        "    dfu = df[df.userId == user]\n",
        "    dfml = dfml[~dfml.movieId.isin(dfu.movieId)]\n",
        "    df_ref_users = df[df.userId.isin([ru[0] for ru in reference_users])]\n",
        "    dfml = dfml[dfml.movieId.isin(df_ref_users.movieId)]\n",
        "    movie_scores = []\n",
        "    for new_movie in dfml.movieId:\n",
        "        movie_scores.append((new_movie, resScore(reference_users, new_movie)))\n",
        "        if len(movie_scores) % 100 == 0:\n",
        "            print(f\"{len(movie_scores)}/{len(dfml)}\")\n",
        "    print(f\"{len(movie_scores)}/{len(dfml)}\")\n",
        "    return movie_scores, dfml"
      ],
      "execution_count": 6,
      "outputs": [],
      "metadata": {}
    },
    {
      "cell_type": "code",
      "source": [
        "def getSimilarUsers(user, k, similarity_dict):\n",
        "    return sortByTupleValue(similarity_dict[str(user)].items(), reversed=True)[:k]"
      ],
      "execution_count": 7,
      "outputs": [],
      "metadata": {}
    },
    {
      "cell_type": "code",
      "source": [
        "def sortByTupleValue(base_tuple, reversed=False):\n",
        "    return sorted(base_tuple, key=lambda x: x[1] * -1 if reversed else 1)"
      ],
      "execution_count": 8,
      "outputs": [],
      "metadata": {}
    },
    {
      "cell_type": "code",
      "source": [
        "ratings_small_dir = pathlib.Path('datasets/ratings_small.csv')\n",
        "links_small_dir = pathlib.Path('datasets/links_small.csv')\n",
        "movies_metadata_dir = pathlib.Path('datasets/movies_metadata.csv')"
      ],
      "execution_count": 9,
      "outputs": [],
      "metadata": {}
    },
    {
      "cell_type": "code",
      "source": [
        "df = pd.read_csv(ratings_small_dir)\n",
        "\n",
        "userList = df[\"userId\"].unique()\n",
        "totalUsers = len(df.userId.unique())\n",
        "\n",
        "loadJson = True\n",
        "\n",
        "k = 7"
      ],
      "execution_count": 10,
      "outputs": [],
      "metadata": {}
    },
    {
      "cell_type": "code",
      "source": [
        "similarity = loadSimilarityJson() if loadJson else calcSimilarity()"
      ],
      "execution_count": 11,
      "outputs": [],
      "metadata": {
        "tags": []
      }
    },
    {
      "cell_type": "code",
      "source": [
        "user = random.choice(userList)"
      ],
      "execution_count": 12,
      "outputs": [],
      "metadata": {}
    },
    {
      "cell_type": "code",
      "source": [
        "k_similar_users = getSimilarUsers(user, k, similarity)"
      ],
      "execution_count": 13,
      "outputs": [],
      "metadata": {}
    },
    {
      "cell_type": "code",
      "execution_count": 14,
      "metadata": {},
      "outputs": [
        {
          "output_type": "execute_result",
          "data": {
            "text/plain": [
              "[('26', 1.0),\n",
              " ('17', 0.5951700641394974),\n",
              " ('37', 0.5773502691896258),\n",
              " ('2', 0.5625),\n",
              " ('36', 0.5222329678670935),\n",
              " ('33', 0.5),\n",
              " ('34', 0.33333333333333337)]"
            ]
          },
          "metadata": {},
          "execution_count": 14
        }
      ],
      "source": [
        "k_similar_users"
      ]
    },
    {
      "cell_type": "code",
      "source": [
        "df_movies_links = pd.read_csv(links_small_dir)\n",
        "df_movies_links = df_movies_links.drop(columns=['tmdbId'])"
      ],
      "execution_count": 15,
      "outputs": [],
      "metadata": {}
    },
    {
      "cell_type": "code",
      "source": [
        "recomendations, df_movies_links = getMovieList(k_similar_users, user, df_movies_links)"
      ],
      "execution_count": 16,
      "outputs": [
        {
          "output_type": "stream",
          "name": "stdout",
          "text": [
            "100/840\n",
            "200/840\n",
            "300/840\n",
            "400/840\n",
            "500/840\n",
            "600/840\n",
            "700/840\n",
            "800/840\n",
            "840/840\n"
          ]
        }
      ],
      "metadata": {}
    },
    {
      "cell_type": "code",
      "source": [
        "recomendations = sortByTupleValue(recomendations, reversed=True)[:10]"
      ],
      "execution_count": 17,
      "outputs": [],
      "metadata": {}
    },
    {
      "cell_type": "code",
      "source": [
        "df_recommended_movies_links = df_movies_links[df_movies_links.movieId.isin([m[0] for m in recomendations])]\n",
        "df_recommended_movies_links[\"imdbId\"] = df_recommended_movies_links[\"imdbId\"].astype(str)\n",
        "df_recommended_movies_links[\"imdbId\"] = df_recommended_movies_links[\"imdbId\"].transform(lambda x: \"tt\" + (7 - len(x)) * \"0\" + x)"
      ],
      "execution_count": 18,
      "outputs": [],
      "metadata": {}
    },
    {
      "cell_type": "code",
      "source": [
        "df_movie_metadata = pd.read_csv(movies_metadata_dir)\n",
        "df_movie_metadata = df_movie_metadata[df_movie_metadata.imdb_id.isin(df_recommended_movies_links.imdbId)]"
      ],
      "execution_count": 19,
      "outputs": [],
      "metadata": {}
    },
    {
      "cell_type": "code",
      "source": [
        "df_movie_metadata"
      ],
      "execution_count": 20,
      "outputs": [
        {
          "output_type": "execute_result",
          "data": {
            "text/plain": [
              "     adult                              belongs_to_collection    budget  \\\n",
              "16   False                                                NaN  16500000   \n",
              "57   False                                                NaN         0   \n",
              "218  False                                                NaN         0   \n",
              "228  False                                                NaN         0   \n",
              "261  False                                                NaN   2000000   \n",
              "262  False                                                NaN  30000000   \n",
              "302  False  {'id': 131, 'name': 'Three Colors Collection',...         0   \n",
              "304  False  {'id': 131, 'name': 'Three Colors Collection',...         0   \n",
              "311  False                                                NaN  45000000   \n",
              "317  False                                                NaN         0   \n",
              "\n",
              "                                                genres  \\\n",
              "16   [{'id': 18, 'name': 'Drama'}, {'id': 10749, 'n...   \n",
              "57   [{'id': 35, 'name': 'Comedy'}, {'id': 18, 'nam...   \n",
              "218  [{'id': 18, 'name': 'Drama'}, {'id': 10751, 'n...   \n",
              "228  [{'id': 35, 'name': 'Comedy'}, {'id': 18, 'nam...   \n",
              "261  [{'id': 18, 'name': 'Drama'}, {'id': 10749, 'n...   \n",
              "262  [{'id': 12, 'name': 'Adventure'}, {'id': 18, '...   \n",
              "302  [{'id': 18, 'name': 'Drama'}, {'id': 9648, 'na...   \n",
              "304  [{'id': 35, 'name': 'Comedy'}, {'id': 18, 'nam...   \n",
              "311  [{'id': 28, 'name': 'Action'}, {'id': 53, 'nam...   \n",
              "317  [{'id': 35, 'name': 'Comedy'}, {'id': 18, 'nam...   \n",
              "\n",
              "                                              homepage     id    imdb_id  \\\n",
              "16                                                 NaN   4584  tt0114388   \n",
              "57                                                 NaN  11010  tt0110877   \n",
              "218                                                NaN  22625  tt0112679   \n",
              "228                                                NaN  10451  tt0111797   \n",
              "261  http://www.miramax.com/movie/like-water-for-ch...  18183  tt0103994   \n",
              "262                                                NaN   4476  tt0110322   \n",
              "302                                                NaN    110  tt0111495   \n",
              "304                                                NaN    109  tt0111507   \n",
              "311                                                NaN   2636  tt0111255   \n",
              "317                                                NaN  12527  tt0106966   \n",
              "\n",
              "    original_language            original_title  \\\n",
              "16                 en     Sense and Sensibility   \n",
              "57                 it                Il postino   \n",
              "218                en         Circle of Friends   \n",
              "228                zh                      飲食男女   \n",
              "261                es  Como agua para chocolate   \n",
              "262                en       Legends of the Fall   \n",
              "302                fr    Trois couleurs : Rouge   \n",
              "304                fr    Trois couleurs : Blanc   \n",
              "311                en            The Specialist   \n",
              "317                es         Fresa y chocolate   \n",
              "\n",
              "                                              overview  ... release_date  \\\n",
              "16   Rich Mr. Dashwood dies, leaving his second wif...  ...   1995-12-13   \n",
              "57   Simple Italian postman learns to love poetry w...  ...   1994-09-22   \n",
              "218  'Circle Of Friends' is set in 1950's Ireland. ...  ...   1995-03-16   \n",
              "228  The film tells the story of a retired and wido...  ...   1994-08-03   \n",
              "261  Tita is passionately in love with Pedro, but h...  ...   1992-04-16   \n",
              "262  An epic tale of three brothers and their fathe...  ...   1994-12-16   \n",
              "302  Red This is the third film from the trilogy by...  ...   1994-05-27   \n",
              "304  Polish immigrant Karol Karol finds himself out...  ...   1994-01-26   \n",
              "311  May Munro is a woman obsessed with getting rev...  ...   1994-10-07   \n",
              "317  Havana, Cuba, 1979. Flamboyantly gay artist Di...  ...   1993-01-01   \n",
              "\n",
              "         revenue runtime                                   spoken_languages  \\\n",
              "16   135000000.0   136.0           [{'iso_639_1': 'en', 'name': 'English'}]   \n",
              "57           0.0   108.0  [{'iso_639_1': 'it', 'name': 'Italiano'}, {'is...   \n",
              "218          0.0   103.0           [{'iso_639_1': 'en', 'name': 'English'}]   \n",
              "228    7294403.0   123.0               [{'iso_639_1': 'zh', 'name': '普通话'}]   \n",
              "261   21665468.0   105.0  [{'iso_639_1': 'en', 'name': 'English'}, {'iso...   \n",
              "262  160638883.0   133.0  [{'iso_639_1': 'kw', 'name': ''}, {'iso_639_1'...   \n",
              "302          0.0    99.0          [{'iso_639_1': 'fr', 'name': 'Français'}]   \n",
              "304          0.0    91.0  [{'iso_639_1': 'fr', 'name': 'Français'}, {'is...   \n",
              "311  170362582.0   110.0           [{'iso_639_1': 'en', 'name': 'English'}]   \n",
              "317          0.0   108.0           [{'iso_639_1': 'es', 'name': 'Español'}]   \n",
              "\n",
              "       status                                            tagline  \\\n",
              "16   Released           Lose your heart and come to your senses.   \n",
              "57   Released                                                NaN   \n",
              "218  Released                                                NaN   \n",
              "228  Released                                                NaN   \n",
              "261  Released  In Tita's kitchen, ordinary spices become a re...   \n",
              "262  Released   After the Fall from Innocence the Legend begins.   \n",
              "302  Released                                                NaN   \n",
              "304  Released                                                NaN   \n",
              "311  Released  The government taught him to kill. Now he's us...   \n",
              "317  Released                                                NaN   \n",
              "\n",
              "                        title  video vote_average vote_count  \n",
              "16      Sense and Sensibility  False          7.2      364.0  \n",
              "57                The Postman  False          7.6      181.0  \n",
              "218         Circle of Friends  False          6.5       30.0  \n",
              "228       Eat Drink Man Woman  False          7.5       76.0  \n",
              "261  Like Water for Chocolate  False          6.6       70.0  \n",
              "262       Legends of the Fall  False          7.2      636.0  \n",
              "302         Three Colors: Red  False          7.8      246.0  \n",
              "304       Three Colors: White  False          7.3      218.0  \n",
              "311            The Specialist  False          5.5      317.0  \n",
              "317  Strawberry and Chocolate  False          7.1       16.0  \n",
              "\n",
              "[10 rows x 24 columns]"
            ],
            "text/html": "<div>\n<style scoped>\n    .dataframe tbody tr th:only-of-type {\n        vertical-align: middle;\n    }\n\n    .dataframe tbody tr th {\n        vertical-align: top;\n    }\n\n    .dataframe thead th {\n        text-align: right;\n    }\n</style>\n<table border=\"1\" class=\"dataframe\">\n  <thead>\n    <tr style=\"text-align: right;\">\n      <th></th>\n      <th>adult</th>\n      <th>belongs_to_collection</th>\n      <th>budget</th>\n      <th>genres</th>\n      <th>homepage</th>\n      <th>id</th>\n      <th>imdb_id</th>\n      <th>original_language</th>\n      <th>original_title</th>\n      <th>overview</th>\n      <th>...</th>\n      <th>release_date</th>\n      <th>revenue</th>\n      <th>runtime</th>\n      <th>spoken_languages</th>\n      <th>status</th>\n      <th>tagline</th>\n      <th>title</th>\n      <th>video</th>\n      <th>vote_average</th>\n      <th>vote_count</th>\n    </tr>\n  </thead>\n  <tbody>\n    <tr>\n      <th>16</th>\n      <td>False</td>\n      <td>NaN</td>\n      <td>16500000</td>\n      <td>[{'id': 18, 'name': 'Drama'}, {'id': 10749, 'n...</td>\n      <td>NaN</td>\n      <td>4584</td>\n      <td>tt0114388</td>\n      <td>en</td>\n      <td>Sense and Sensibility</td>\n      <td>Rich Mr. Dashwood dies, leaving his second wif...</td>\n      <td>...</td>\n      <td>1995-12-13</td>\n      <td>135000000.0</td>\n      <td>136.0</td>\n      <td>[{'iso_639_1': 'en', 'name': 'English'}]</td>\n      <td>Released</td>\n      <td>Lose your heart and come to your senses.</td>\n      <td>Sense and Sensibility</td>\n      <td>False</td>\n      <td>7.2</td>\n      <td>364.0</td>\n    </tr>\n    <tr>\n      <th>57</th>\n      <td>False</td>\n      <td>NaN</td>\n      <td>0</td>\n      <td>[{'id': 35, 'name': 'Comedy'}, {'id': 18, 'nam...</td>\n      <td>NaN</td>\n      <td>11010</td>\n      <td>tt0110877</td>\n      <td>it</td>\n      <td>Il postino</td>\n      <td>Simple Italian postman learns to love poetry w...</td>\n      <td>...</td>\n      <td>1994-09-22</td>\n      <td>0.0</td>\n      <td>108.0</td>\n      <td>[{'iso_639_1': 'it', 'name': 'Italiano'}, {'is...</td>\n      <td>Released</td>\n      <td>NaN</td>\n      <td>The Postman</td>\n      <td>False</td>\n      <td>7.6</td>\n      <td>181.0</td>\n    </tr>\n    <tr>\n      <th>218</th>\n      <td>False</td>\n      <td>NaN</td>\n      <td>0</td>\n      <td>[{'id': 18, 'name': 'Drama'}, {'id': 10751, 'n...</td>\n      <td>NaN</td>\n      <td>22625</td>\n      <td>tt0112679</td>\n      <td>en</td>\n      <td>Circle of Friends</td>\n      <td>'Circle Of Friends' is set in 1950's Ireland. ...</td>\n      <td>...</td>\n      <td>1995-03-16</td>\n      <td>0.0</td>\n      <td>103.0</td>\n      <td>[{'iso_639_1': 'en', 'name': 'English'}]</td>\n      <td>Released</td>\n      <td>NaN</td>\n      <td>Circle of Friends</td>\n      <td>False</td>\n      <td>6.5</td>\n      <td>30.0</td>\n    </tr>\n    <tr>\n      <th>228</th>\n      <td>False</td>\n      <td>NaN</td>\n      <td>0</td>\n      <td>[{'id': 35, 'name': 'Comedy'}, {'id': 18, 'nam...</td>\n      <td>NaN</td>\n      <td>10451</td>\n      <td>tt0111797</td>\n      <td>zh</td>\n      <td>飲食男女</td>\n      <td>The film tells the story of a retired and wido...</td>\n      <td>...</td>\n      <td>1994-08-03</td>\n      <td>7294403.0</td>\n      <td>123.0</td>\n      <td>[{'iso_639_1': 'zh', 'name': '普通话'}]</td>\n      <td>Released</td>\n      <td>NaN</td>\n      <td>Eat Drink Man Woman</td>\n      <td>False</td>\n      <td>7.5</td>\n      <td>76.0</td>\n    </tr>\n    <tr>\n      <th>261</th>\n      <td>False</td>\n      <td>NaN</td>\n      <td>2000000</td>\n      <td>[{'id': 18, 'name': 'Drama'}, {'id': 10749, 'n...</td>\n      <td>http://www.miramax.com/movie/like-water-for-ch...</td>\n      <td>18183</td>\n      <td>tt0103994</td>\n      <td>es</td>\n      <td>Como agua para chocolate</td>\n      <td>Tita is passionately in love with Pedro, but h...</td>\n      <td>...</td>\n      <td>1992-04-16</td>\n      <td>21665468.0</td>\n      <td>105.0</td>\n      <td>[{'iso_639_1': 'en', 'name': 'English'}, {'iso...</td>\n      <td>Released</td>\n      <td>In Tita's kitchen, ordinary spices become a re...</td>\n      <td>Like Water for Chocolate</td>\n      <td>False</td>\n      <td>6.6</td>\n      <td>70.0</td>\n    </tr>\n    <tr>\n      <th>262</th>\n      <td>False</td>\n      <td>NaN</td>\n      <td>30000000</td>\n      <td>[{'id': 12, 'name': 'Adventure'}, {'id': 18, '...</td>\n      <td>NaN</td>\n      <td>4476</td>\n      <td>tt0110322</td>\n      <td>en</td>\n      <td>Legends of the Fall</td>\n      <td>An epic tale of three brothers and their fathe...</td>\n      <td>...</td>\n      <td>1994-12-16</td>\n      <td>160638883.0</td>\n      <td>133.0</td>\n      <td>[{'iso_639_1': 'kw', 'name': ''}, {'iso_639_1'...</td>\n      <td>Released</td>\n      <td>After the Fall from Innocence the Legend begins.</td>\n      <td>Legends of the Fall</td>\n      <td>False</td>\n      <td>7.2</td>\n      <td>636.0</td>\n    </tr>\n    <tr>\n      <th>302</th>\n      <td>False</td>\n      <td>{'id': 131, 'name': 'Three Colors Collection',...</td>\n      <td>0</td>\n      <td>[{'id': 18, 'name': 'Drama'}, {'id': 9648, 'na...</td>\n      <td>NaN</td>\n      <td>110</td>\n      <td>tt0111495</td>\n      <td>fr</td>\n      <td>Trois couleurs : Rouge</td>\n      <td>Red This is the third film from the trilogy by...</td>\n      <td>...</td>\n      <td>1994-05-27</td>\n      <td>0.0</td>\n      <td>99.0</td>\n      <td>[{'iso_639_1': 'fr', 'name': 'Français'}]</td>\n      <td>Released</td>\n      <td>NaN</td>\n      <td>Three Colors: Red</td>\n      <td>False</td>\n      <td>7.8</td>\n      <td>246.0</td>\n    </tr>\n    <tr>\n      <th>304</th>\n      <td>False</td>\n      <td>{'id': 131, 'name': 'Three Colors Collection',...</td>\n      <td>0</td>\n      <td>[{'id': 35, 'name': 'Comedy'}, {'id': 18, 'nam...</td>\n      <td>NaN</td>\n      <td>109</td>\n      <td>tt0111507</td>\n      <td>fr</td>\n      <td>Trois couleurs : Blanc</td>\n      <td>Polish immigrant Karol Karol finds himself out...</td>\n      <td>...</td>\n      <td>1994-01-26</td>\n      <td>0.0</td>\n      <td>91.0</td>\n      <td>[{'iso_639_1': 'fr', 'name': 'Français'}, {'is...</td>\n      <td>Released</td>\n      <td>NaN</td>\n      <td>Three Colors: White</td>\n      <td>False</td>\n      <td>7.3</td>\n      <td>218.0</td>\n    </tr>\n    <tr>\n      <th>311</th>\n      <td>False</td>\n      <td>NaN</td>\n      <td>45000000</td>\n      <td>[{'id': 28, 'name': 'Action'}, {'id': 53, 'nam...</td>\n      <td>NaN</td>\n      <td>2636</td>\n      <td>tt0111255</td>\n      <td>en</td>\n      <td>The Specialist</td>\n      <td>May Munro is a woman obsessed with getting rev...</td>\n      <td>...</td>\n      <td>1994-10-07</td>\n      <td>170362582.0</td>\n      <td>110.0</td>\n      <td>[{'iso_639_1': 'en', 'name': 'English'}]</td>\n      <td>Released</td>\n      <td>The government taught him to kill. Now he's us...</td>\n      <td>The Specialist</td>\n      <td>False</td>\n      <td>5.5</td>\n      <td>317.0</td>\n    </tr>\n    <tr>\n      <th>317</th>\n      <td>False</td>\n      <td>NaN</td>\n      <td>0</td>\n      <td>[{'id': 35, 'name': 'Comedy'}, {'id': 18, 'nam...</td>\n      <td>NaN</td>\n      <td>12527</td>\n      <td>tt0106966</td>\n      <td>es</td>\n      <td>Fresa y chocolate</td>\n      <td>Havana, Cuba, 1979. Flamboyantly gay artist Di...</td>\n      <td>...</td>\n      <td>1993-01-01</td>\n      <td>0.0</td>\n      <td>108.0</td>\n      <td>[{'iso_639_1': 'es', 'name': 'Español'}]</td>\n      <td>Released</td>\n      <td>NaN</td>\n      <td>Strawberry and Chocolate</td>\n      <td>False</td>\n      <td>7.1</td>\n      <td>16.0</td>\n    </tr>\n  </tbody>\n</table>\n<p>10 rows × 24 columns</p>\n</div>"
          },
          "metadata": {},
          "execution_count": 20
        }
      ],
      "metadata": {}
    },
    {
      "cell_type": "code",
      "execution_count": null,
      "metadata": {},
      "outputs": [],
      "source": []
    }
  ],
  "metadata": {
    "kernelspec": {
      "name": "python3",
      "display_name": "Python 3.9.5 64-bit"
    },
    "interpreter": {
      "hash": "63fd5069d213b44bf678585dea6b12cceca9941eaf7f819626cde1f2670de90d"
    }
  },
  "nbformat": 4,
  "nbformat_minor": 0
}